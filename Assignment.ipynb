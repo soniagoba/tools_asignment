{
  "metadata": {
    "kernelspec": {
      "name": "python",
      "display_name": "Pyolite",
      "language": "python"
    },
    "language_info": {
      "codemirror_mode": {
        "name": "python",
        "version": 3
      },
      "file_extension": ".py",
      "mimetype": "text/x-python",
      "name": "python",
      "nbconvert_exporter": "python",
      "pygments_lexer": "ipython3",
      "version": "3.8"
    }
  },
  "nbformat_minor": 4,
  "nbformat": 4,
  "cells": [
    {
      "cell_type": "markdown",
      "source": "<center>\n    <img src=\"https://cf-courses-data.s3.us.cloud-object-storage.appdomain.cloud/IBMDeveloperSkillsNetwork-DS0105EN-SkillsNetwork/labs/Module2/images/SN_web_lightmode.png\" width=\"300\" alt=\"cognitiveclass.ai logo\"  />\n</center>\n",
      "metadata": {}
    },
    {
      "cell_type": "markdown",
      "source": "#### Add your code below following the instructions given in the course\n",
      "metadata": {}
    },
    {
      "cell_type": "markdown",
      "source": "# My Jupyter Notebook on Skills Network",
      "metadata": {}
    },
    {
      "cell_type": "markdown",
      "source": "**Sonia González**  \n\nData Analyst",
      "metadata": {}
    },
    {
      "cell_type": "markdown",
      "source": "*I am interested in data science because I think it's very important in many different fields and this knowledge could open a wide range of new professional opportunities.*",
      "metadata": {}
    },
    {
      "cell_type": "markdown",
      "source": "### My code should write \"Hello world\".",
      "metadata": {}
    },
    {
      "cell_type": "code",
      "source": "print(\"Hellow World\")",
      "metadata": {},
      "execution_count": null,
      "outputs": []
    },
    {
      "cell_type": "markdown",
      "source": "Horizontal rule:  \n\n------\n\nBulleted list:  \n- Item 1\n- Item 2\n- Item 3\n\nNumbered list:  \n1. First item\n2. Second item\n3. Third item\n\nTable:\n|Date   |Weather|\n|:-----:|:-----:|\n|Monday |Sunny  |\n|Tuesday|Rainy  |\n\nHyperlinks:  \n Solve your questions about Markdown on [Daring Fireball](https://daringfireball.net/projects/markdown/syntax)\n\nImages:\n![Sunl](https://www.gifsanimados.org/data/media/278/sol-imagen-animada-0850.gif)  \n\nSyntax highlighting:  \nThe following name will be highlighted: \n\nBlocked quotes:\n>Lorem ipsum dolor sit amet, consectetur adipiscing elit, \n>sed do eiusmod tempor incididunt ut labore et dolore magna aliqua. \n\nStrikethrough:  \n~~Proffession.~~The right spell is Profession.  \n",
      "metadata": {}
    },
    {
      "cell_type": "code",
      "source": "",
      "metadata": {},
      "execution_count": null,
      "outputs": []
    }
  ]
}